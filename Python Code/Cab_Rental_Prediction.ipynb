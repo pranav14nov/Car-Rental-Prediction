{
 "cells": [
  {
   "cell_type": "code",
   "execution_count": 14,
   "metadata": {},
   "outputs": [],
   "source": [
    "import pandas as pd\n",
    "import numpy as np\n",
    "from sklearn.model_selection import train_test_split\n",
    "from sklearn.ensemble import GradientBoostingRegressor\n",
    "from sklearn.model_selection import GridSearchCV\n",
    "\n",
    "from sklearn.ensemble import RandomForestRegressor\n",
    "from sklearn.linear_model import LinearRegression\n",
    "from math import sqrt\n",
    "from sklearn.metrics import mean_squared_error"
   ]
  },
  {
   "cell_type": "code",
   "execution_count": 15,
   "metadata": {},
   "outputs": [],
   "source": [
    "#Loading the DataSet\n",
    "#import os\n",
    "#os.chdir(\"F:\\PRANAV\\Project\\Car Rental Prediction\")\n",
    "df_train = pd.read_csv('train_cab.csv')\n",
    "df_test = pd.read_csv('test.csv')"
   ]
  },
  {
   "cell_type": "code",
   "execution_count": 16,
   "metadata": {},
   "outputs": [],
   "source": [
    "#Converting data types to apply regression\n",
    "df_train= df_train.drop(df_train.index[1123])\n",
    "df_train = df_train.reset_index(drop = True)\n",
    "df_train['fare_amount'] = df_train['fare_amount'].apply(pd.to_numeric)"
   ]
  },
  {
   "cell_type": "code",
   "execution_count": 17,
   "metadata": {},
   "outputs": [
    {
     "data": {
      "text/plain": [
       "fare_amount          0\n",
       "pickup_datetime      0\n",
       "pickup_longitude     0\n",
       "pickup_latitude      0\n",
       "dropoff_longitude    0\n",
       "dropoff_latitude     0\n",
       "passenger_count      0\n",
       "dtype: int64"
      ]
     },
     "execution_count": 17,
     "metadata": {},
     "output_type": "execute_result"
    }
   ],
   "source": [
    "#Missing Value Analysis\n",
    "missing_Val = pd.DataFrame(df_train.isnull().sum())\n",
    "missing_Val = missing_Val.reset_index()\n",
    "missing_Val = missing_Val.rename(columns = {'index':'Variables',0:'Missing_Percentage'})\n",
    "missing_Val['Missing_Percentage'] = (missing_Val['Missing_Percentage']/len(df_train))*100\n",
    "missing_Val = missing_Val.sort_values('Missing_Percentage', ascending = False).reset_index(drop=True)\n",
    "df_train = df_train.fillna(df_train.median())\n",
    "df_train.isnull().sum()"
   ]
  },
  {
   "cell_type": "code",
   "execution_count": 19,
   "metadata": {},
   "outputs": [
    {
     "data": {
      "text/plain": [
       "14559"
      ]
     },
     "execution_count": 19,
     "metadata": {},
     "output_type": "execute_result"
    }
   ],
   "source": [
    "# removing outliers if any\n",
    "#q1 = df_train[\"fare_amount\"].quantile(0.25)\n",
    "#q3 = df_train[\"fare_amount\"].quantile(0.75)\n",
    "#iqr = q3-q1 #Interquartile range\n",
    "#fence_low  = q1-1.5*iqr\n",
    "#fence_high = q3+1.5*iqr\n",
    "#df_train = df_train.loc[(df_train[\"fare_amount\"] > fence_low) & (df_train[\"fare_amount\"] < fence_high)]\n",
    "\n",
    "# Another way to detect outlier via 3 standard deviation rule\n",
    "len(df_train[((df_train.fare_amount - df_train.fare_amount.mean()) / df_train.fare_amount.std()).abs() < 3])"
   ]
  },
  {
   "cell_type": "code",
   "execution_count": 20,
   "metadata": {},
   "outputs": [
    {
     "name": "stderr",
     "output_type": "stream",
     "text": [
      "C:\\Users\\hp\\Anaconda3\\lib\\site-packages\\ipykernel_launcher.py:5: FutureWarning: Method .as_matrix will be removed in a future version. Use .values instead.\n",
      "  \"\"\"\n",
      "C:\\Users\\hp\\Anaconda3\\lib\\site-packages\\ipykernel_launcher.py:6: FutureWarning: Method .as_matrix will be removed in a future version. Use .values instead.\n",
      "  \n"
     ]
    }
   ],
   "source": [
    "# Converting categorical variables as dummies\n",
    "y=df_train[\"fare_amount\"].tolist()\n",
    "df_train.drop( ['pickup_datetime','fare_amount'], axis=1, inplace=True)\n",
    "df_test.drop(['pickup_datetime'], axis =1, inplace = True)\n",
    "X=df_train.as_matrix()\n",
    "X_test=df_test.as_matrix()"
   ]
  },
  {
   "cell_type": "code",
   "execution_count": 21,
   "metadata": {},
   "outputs": [],
   "source": [
    "# Split dataset into train-test as 80:20 split\n",
    "X_train, X_val, y_train, y_val = train_test_split(X, y, test_size=0.2, random_state=42)"
   ]
  },
  {
   "cell_type": "code",
   "execution_count": 22,
   "metadata": {},
   "outputs": [],
   "source": [
    "# Loading different models\n",
    "clf1=RandomForestRegressor()\n",
    "clf2=GradientBoostingRegressor()\n",
    "clf3=LinearRegression()"
   ]
  },
  {
   "cell_type": "code",
   "execution_count": 23,
   "metadata": {},
   "outputs": [
    {
     "data": {
      "text/plain": [
       "LinearRegression(copy_X=True, fit_intercept=True, n_jobs=1, normalize=False)"
      ]
     },
     "execution_count": 23,
     "metadata": {},
     "output_type": "execute_result"
    }
   ],
   "source": [
    "# Training all 3 models\n",
    "clf1.fit(X_train,y_train)\n",
    "clf2.fit(X_train,y_train)\n",
    "clf3.fit(X_train,y_train)"
   ]
  },
  {
   "cell_type": "code",
   "execution_count": 24,
   "metadata": {},
   "outputs": [
    {
     "name": "stdout",
     "output_type": "stream",
     "text": [
      "RMSE for Random Forest Regressor:  2.4717207535550645\n",
      "RMSE for Gradient Boosting Regressor:  2.7702779939574316\n",
      "RMSE for Linear Regression Model:  3.996078236048056\n"
     ]
    }
   ],
   "source": [
    "# RMSE for all 3 models\n",
    "\n",
    "y_pred1=clf1.predict(X_val)\n",
    "y_pred2=clf2.predict(X_val)\n",
    "y_pred3=clf3.predict(X_val)\n",
    "\n",
    "print(\"RMSE for Random Forest Regressor: \",sqrt(mean_squared_error(y_pred1,y_val)))\n",
    "print(\"RMSE for Gradient Boosting Regressor: \",sqrt(mean_squared_error(y_pred2,y_val)))\n",
    "print(\"RMSE for Linear Regression Model: \",sqrt(mean_squared_error(y_pred3,y_val)))"
   ]
  },
  {
   "cell_type": "code",
   "execution_count": 25,
   "metadata": {},
   "outputs": [
    {
     "data": {
      "text/plain": [
       "GridSearchCV(cv=3, error_score='raise',\n",
       "       estimator=RandomForestRegressor(bootstrap=True, criterion='mse', max_depth=None,\n",
       "           max_features='auto', max_leaf_nodes=None,\n",
       "           min_impurity_decrease=0.0, min_impurity_split=None,\n",
       "           min_samples_leaf=1, min_samples_split=2,\n",
       "           min_weight_fraction_leaf=0.0, n_estimators=10, n_jobs=1,\n",
       "           oob_score=False, random_state=None, verbose=0, warm_start=False),\n",
       "       fit_params=None, iid=True, n_jobs=1,\n",
       "       param_grid={'n_estimators': [10, 100, 50, 300], 'max_features': [1, 3, 5], 'max_depth': [20, 20, 25, 25], 'min_samples_leaf': [100]},\n",
       "       pre_dispatch='2*n_jobs', refit=True, return_train_score='warn',\n",
       "       scoring=None, verbose=0)"
      ]
     },
     "execution_count": 25,
     "metadata": {},
     "output_type": "execute_result"
    }
   ],
   "source": [
    "param_grid  = {'n_estimators': [10,100,50,300], \n",
    "               'max_features': [1,3,5], \n",
    "               'max_depth':[20,20,25,25],\n",
    "               'min_samples_leaf':[100]\n",
    "              }\n",
    "# Create a based model\n",
    "rf = RandomForestRegressor()\n",
    "#Instantiate the grid search model\n",
    "clf = GridSearchCV(estimator = rf, param_grid = param_grid,cv = 3)\n",
    "clf.fit(X, y)"
   ]
  },
  {
   "cell_type": "code",
   "execution_count": 13,
   "metadata": {},
   "outputs": [],
   "source": [
    "y_pred=clf.predict(X_test)"
   ]
  },
  {
   "cell_type": "code",
   "execution_count": 15,
   "metadata": {},
   "outputs": [],
   "source": [
    "newDF=pd.DataFrame()\n",
    "newDF[\"Predicted_fare\"]=y_pred\n",
    "newDF.to_csv(\"predictions.csv\",index=False)"
   ]
  }
 ],
 "metadata": {
  "kernelspec": {
   "display_name": "Python 3",
   "language": "python",
   "name": "python3"
  },
  "language_info": {
   "codemirror_mode": {
    "name": "ipython",
    "version": 3
   },
   "file_extension": ".py",
   "mimetype": "text/x-python",
   "name": "python",
   "nbconvert_exporter": "python",
   "pygments_lexer": "ipython3",
   "version": "3.6.5"
  }
 },
 "nbformat": 4,
 "nbformat_minor": 2
}
